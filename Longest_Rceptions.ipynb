{
  "nbformat": 4,
  "nbformat_minor": 0,
  "metadata": {
    "colab": {
      "provenance": [],
      "authorship_tag": "ABX9TyMbKwD/xpnSPCJhaFysM3j1",
      "include_colab_link": true
    },
    "kernelspec": {
      "name": "python3",
      "display_name": "Python 3"
    },
    "language_info": {
      "name": "python"
    }
  },
  "cells": [
    {
      "cell_type": "markdown",
      "metadata": {
        "id": "view-in-github",
        "colab_type": "text"
      },
      "source": [
        "<a href=\"https://colab.research.google.com/github/tburger101/max_reception/blob/main/Longest_Rceptions.ipynb\" target=\"_parent\"><img src=\"https://colab.research.google.com/assets/colab-badge.svg\" alt=\"Open In Colab\"/></a>"
      ]
    },
    {
      "cell_type": "code",
      "execution_count": 38,
      "metadata": {
        "id": "Z5SgPx3oilGW"
      },
      "outputs": [],
      "source": [
        "import numpy as np\n",
        "import pandas as pd\n",
        "import matplotlib.pyplot as plt"
      ]
    },
    {
      "cell_type": "code",
      "source": [
        "''' \n",
        "In order to figure out what the median longest reception should be, the first thing we need to figure out is what Kelce's recption distribution should look like.\n",
        "To do this the first thing we need is a mean reception number. When I look at at Betonline I can see the prop line in at 7.5 juiced towards the under. So I make the \n",
        "average 7. From here I draw 100K poisson distributed samples.\n",
        "\n",
        "I subscribe to FTN data so I have play by play data for the entire 2022 season. The Kelce_recetpions CSV is just the sample of all his catches (regular season + playoffs). Can load\n",
        "this file from the git repo. \n",
        "'''\n",
        "\n",
        "samples=np.random.poisson(7, 100000)\n",
        "kelce_rec_df=pd.read_csv(\"/content/Kelce_receptions.csv\")\n",
        "kelce_yds=kelce_rec_df['yds'].values"
      ],
      "metadata": {
        "id": "mxZk05fSiuP5"
      },
      "execution_count": 51,
      "outputs": []
    },
    {
      "cell_type": "code",
      "source": [
        "'''\n",
        "Below is a histogram of the receiving yards on Kelce's 131 catches for the 2022 season. Since we have a pretty large sample and the histogram looks reasonably distributed \n",
        "in the next steps we will just randomly sample from his 2022 catches with replacement.\n",
        "'''\n",
        "\n",
        "kelce_rec_df['yds'].hist()"
      ],
      "metadata": {
        "colab": {
          "base_uri": "https://localhost:8080/",
          "height": 285
        },
        "id": "hSLlZ8abv3IG",
        "outputId": "aeca1df5-bfaa-4078-d8b9-5ee621b258b0"
      },
      "execution_count": 52,
      "outputs": [
        {
          "output_type": "execute_result",
          "data": {
            "text/plain": [
              "<matplotlib.axes._subplots.AxesSubplot at 0x7fc5b8693d00>"
            ]
          },
          "metadata": {},
          "execution_count": 52
        },
        {
          "output_type": "display_data",
          "data": {
            "text/plain": [
              "<Figure size 432x288 with 1 Axes>"
            ],
            "image/png": "[encoded data removed]"
          },
          "metadata": {
            "needs_background": "light"
          }
        }
      ]
    },
    {
      "cell_type": "code",
      "source": [
        "'''\n",
        "Here we go through our reception distribution created above and draw reception samples from our data frame, take the max of all the sampled cataches, and add that to\n",
        "the max_yds_sim list. Later we can use this list to determine the median.\n",
        "'''\n",
        "\n",
        "max_yds_sim=[]\n",
        "for x in np.unique(samples):\n",
        "  samples_to_draw=np.count_nonzero(samples == x)\n",
        "  for iteration in range(0,samples_to_draw):\n",
        "    if x==0:\n",
        "      max_yds_sim.append(0)\n",
        "    else:\n",
        "      max_yds_sim.append(np.max(kelce_rec_df['yds'].sample(x,replace=True)))\n"
      ],
      "metadata": {
        "id": "39Z0PAM_j-1x"
      },
      "execution_count": 53,
      "outputs": []
    },
    {
      "cell_type": "code",
      "source": [
        "'''\n",
        "Using this approach we calculate the median longest reception\n",
        "'''\n",
        "\n",
        "np.median(np.array(max_yds_sim))"
      ],
      "metadata": {
        "colab": {
          "base_uri": "https://localhost:8080/"
        },
        "id": "TtApoy3lrGJw",
        "outputId": "a1332312-e772-4b73-c36a-89d50e491a3d"
      },
      "execution_count": 54,
      "outputs": [
        {
          "output_type": "execute_result",
          "data": {
            "text/plain": [
              "23.0"
            ]
          },
          "metadata": {},
          "execution_count": 54
        }
      ]
    },
    {
      "cell_type": "code",
      "source": [
        "'''\n",
        "We can use our sample data to guage where the max reception line will have value based on a -115 juice\n",
        "'''\n",
        "max_yds_array=np.array(max_yds_sim)\n",
        "\n",
        "line=21\n",
        "\n",
        "for line in [20.5, 21.5, 22.5, 23.5, 24.5, 25.5, 26.5, 27.5, 28.5, 29.5, 30.5]:\n",
        "  print(str(line)+\" \"+'under_percent', np.count_nonzero(max_yds_array < line)/len(max_yds_sim))\n",
        "\n",
        "\n"
      ],
      "metadata": {
        "colab": {
          "base_uri": "https://localhost:8080/"
        },
        "id": "KOBIdtuf13jl",
        "outputId": "10ce9557-6c25-44a7-e086-764b87ccfdcd"
      },
      "execution_count": 61,
      "outputs": [
        {
          "output_type": "stream",
          "name": "stdout",
          "text": [
            "20.5 under_percent 0.40607\n",
            "21.5 under_percent 0.40607\n",
            "22.5 under_percent 0.45178\n",
            "23.5 under_percent 0.50245\n",
            "24.5 under_percent 0.50245\n",
            "25.5 under_percent 0.52971\n",
            "26.5 under_percent 0.55844\n",
            "27.5 under_percent 0.65529\n",
            "28.5 under_percent 0.65529\n",
            "29.5 under_percent 0.69124\n",
            "30.5 under_percent 0.69124\n"
          ]
        }
      ]
    }
  ]
}